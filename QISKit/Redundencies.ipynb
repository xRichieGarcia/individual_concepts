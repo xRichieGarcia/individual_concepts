{
 "cells": [
  {
   "cell_type": "code",
   "execution_count": 51,
   "metadata": {},
   "outputs": [
    {
     "name": "stdout",
     "output_type": "stream",
     "text": [
      "COMPLETED\n",
      "{'counts': {'01': 1000}}\n"
     ]
    }
   ],
   "source": [
    "from qiskit import QuantumProgram, QISKitError, RegisterSizeError\n",
    "\n",
    "# Create a QuantumProgram object instance.\n",
    "Q_program = QuantumProgram()\n",
    "backend = 'local_qasm_simulator'\n",
    "try:\n",
    "    # Create a Quantum Register called \"qr\" with 3 qubits.\n",
    "    qr = Q_program.create_quantum_register(\"qr\", 2)\n",
    "    # Create a Classical Register called \"cr\" with 3 bits.\n",
    "    cr = Q_program.create_classical_register(\"cr\", 2)\n",
    "    # Create a Quantum Circuit called \"qc\" involving the Quantum Register \"qr\"\n",
    "    # and the Classical Register \"cr\".\n",
    "    qc = Q_program.create_circuit(\"bell\", [qr], [cr])\n",
    "\n",
    "    # Add the H gate in the Qubit 0, putting this qubit in superposition.\n",
    "#    qc.x(qr[0])\n",
    "    qc.x(qr[1])\n",
    "    # Add the CX gate on control qubit 0 and target qubit 1, putting \n",
    "    # the qubits in a Bell state\n",
    "    qc.cx(qr[0], qr[1])\n",
    "    qc.cx(qr[1], qr[0])\n",
    "    qc.cx(qr[0], qr[1])\n",
    "    \n",
    "    #flipping qubit one\n",
    "   # qc.h(qr[0])\n",
    "  #  qc.h(qr[1])\n",
    " #   qc.h(qr[2])\n",
    "    \n",
    "    #flipping quibit two\n",
    "    #qc.s(qr[1])\n",
    "    #qc.h(qr[1])\n",
    "    #qc.t(qr[1])\n",
    "    #qc.h(qr[1])\n",
    "\n",
    "    # Add a Measure gate to see the state.\n",
    "    qc.measure(qr, cr)\n",
    "\n",
    "    # Compile and execute the Quantum Program in the local_qasm_simulator.\n",
    "    result = Q_program.execute([\"bell\"], backend=backend, shots=1000, seed=1)\n",
    "\n",
    "    # Show the results.\n",
    "    print(result)\n",
    "    print(result.get_data(\"bell\"))\n",
    "\n",
    "except QISKitError as ex:\n",
    "    print('There was an error in the circuit!. Error = {}'.format(ex))\n",
    "except RegisterSizeError as ex:\n",
    "    print('Error in the number of registers!. Error = {}'.format(ex))"
   ]
  },
  {
   "cell_type": "code",
   "execution_count": 21,
   "metadata": {
    "collapsed": true
   },
   "outputs": [],
   "source": [
    "qc.ccx?"
   ]
  },
  {
   "cell_type": "code",
   "execution_count": null,
   "metadata": {
    "collapsed": true
   },
   "outputs": [],
   "source": []
  }
 ],
 "metadata": {
  "kernelspec": {
   "display_name": "Python 3",
   "language": "python",
   "name": "python3"
  },
  "language_info": {
   "codemirror_mode": {
    "name": "ipython",
    "version": 3
   },
   "file_extension": ".py",
   "mimetype": "text/x-python",
   "name": "python",
   "nbconvert_exporter": "python",
   "pygments_lexer": "ipython3",
   "version": "3.6.3"
  }
 },
 "nbformat": 4,
 "nbformat_minor": 2
}
