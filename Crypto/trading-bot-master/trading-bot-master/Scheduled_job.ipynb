{
 "cells": [
  {
   "cell_type": "code",
   "execution_count": 1,
   "metadata": {
    "collapsed": true
   },
   "outputs": [],
   "source": [
    "import time\n",
    "import sys, getopt\n",
    "from datetime import datetime\n",
    "from poloniex import poloniex\n",
    "import matplotlib.pyplot as plt\n",
    "import numpy as np\n",
    "import os\n",
    "from apscheduler.schedulers.blocking import BlockingScheduler"
   ]
  },
  {
   "cell_type": "code",
   "execution_count": 2,
   "metadata": {
    "collapsed": true
   },
   "outputs": [],
   "source": [
    "conn = poloniex('4FL5ZFUA-S8G1Z0BY-MSGKQ6UC-JZZK28QW', 'da1292cb7f5175ad07eeed9831ee12cb9be580584d328e19311feb8f38170298b72b04c5f34d57e975949e151bbf01e4f79e8eae7d81408a6b3dd2d3e6a88d03')"
   ]
  },
  {
   "cell_type": "code",
   "execution_count": 6,
   "metadata": {},
   "outputs": [],
   "source": [
    "currValue = conn.api_query(\"returnTicker\")\n",
    "loggedValues = {}\n",
    "count = 0;\n",
    "\n",
    "for key in currValue.keys():\n",
    "    loggedValues[key] = {}\n",
    "\n"
   ]
  },
  {
   "cell_type": "code",
   "execution_count": 7,
   "metadata": {
    "collapsed": true
   },
   "outputs": [],
   "source": [
    "def tick():\n",
    "    print('Tick! The time is: %s' % datetime.now())\n",
    "\n",
    "def get_data():\n",
    "    global count\n",
    "    \n",
    "    tick()\n",
    "    currentValues = conn.api_query(\"returnTicker\")\n",
    "    for key in currentValues.keys():\n",
    "        loggedValues[key][count] = currentValues[key]\n",
    "    count += 1\n",
    "    if (count > 100):\n",
    "        scheduler.shutdown()\n",
    "    print(\"BTC_AMP Base Volume: \" + loggedValues[\"BTC_AMP\"][0][\"baseVolume\"])"
   ]
  },
  {
   "cell_type": "code",
   "execution_count": 8,
   "metadata": {},
   "outputs": [
    {
     "name": "stdout",
     "output_type": "stream",
     "text": [
      "Tick! The time is: 2018-01-09 16:24:00.091205\n",
      "BTC_AMP Base Volume: 174.58527937\n"
     ]
    }
   ],
   "source": [
    "get_data()"
   ]
  },
  {
   "cell_type": "code",
   "execution_count": 9,
   "metadata": {},
   "outputs": [
    {
     "name": "stdout",
     "output_type": "stream",
     "text": [
      "Tick! The time is: 2018-01-09 16:24:20.002614\n",
      "BTC_AMP Base Volume: 174.58527937\n",
      "Tick! The time is: 2018-01-09 16:24:40.013975\n",
      "BTC_AMP Base Volume: 174.58527937\n",
      "Tick! The time is: 2018-01-09 16:25:00.017521\n",
      "BTC_AMP Base Volume: 174.58527937\n",
      "Tick! The time is: 2018-01-09 16:25:20.014995\n",
      "BTC_AMP Base Volume: 174.58527937\n",
      "Tick! The time is: 2018-01-09 16:25:40.018994\n",
      "BTC_AMP Base Volume: 174.58527937\n",
      "Tick! The time is: 2018-01-09 16:26:00.013679\n",
      "BTC_AMP Base Volume: 174.58527937\n",
      "Tick! The time is: 2018-01-09 16:26:20.017588\n",
      "BTC_AMP Base Volume: 174.58527937\n",
      "Tick! The time is: 2018-01-09 16:26:40.009587\n",
      "BTC_AMP Base Volume: 174.58527937\n",
      "Tick! The time is: 2018-01-09 16:27:00.018615\n",
      "BTC_AMP Base Volume: 174.58527937\n",
      "Tick! The time is: 2018-01-09 16:27:20.014937\n",
      "BTC_AMP Base Volume: 174.58527937\n",
      "Tick! The time is: 2018-01-09 16:27:40.019185\n",
      "BTC_AMP Base Volume: 174.58527937\n",
      "Tick! The time is: 2018-01-09 16:28:00.002523\n",
      "BTC_AMP Base Volume: 174.58527937\n",
      "Tick! The time is: 2018-01-09 16:28:20.002937\n",
      "BTC_AMP Base Volume: 174.58527937\n",
      "Tick! The time is: 2018-01-09 16:28:40.003441\n",
      "BTC_AMP Base Volume: 174.58527937\n",
      "Tick! The time is: 2018-01-09 16:29:00.003171\n",
      "BTC_AMP Base Volume: 174.58527937\n",
      "Tick! The time is: 2018-01-09 16:29:20.002915\n",
      "BTC_AMP Base Volume: 174.58527937\n",
      "Tick! The time is: 2018-01-09 16:29:40.003615\n",
      "BTC_AMP Base Volume: 174.58527937\n",
      "Tick! The time is: 2018-01-09 16:30:00.003597\n",
      "BTC_AMP Base Volume: 174.58527937\n",
      "Tick! The time is: 2018-01-09 16:30:20.003137\n",
      "BTC_AMP Base Volume: 174.58527937\n",
      "Tick! The time is: 2018-01-09 16:30:40.002562\n",
      "BTC_AMP Base Volume: 174.58527937\n",
      "Tick! The time is: 2018-01-09 16:31:00.002725\n",
      "BTC_AMP Base Volume: 174.58527937\n",
      "Tick! The time is: 2018-01-09 16:31:20.003177\n",
      "BTC_AMP Base Volume: 174.58527937\n",
      "Tick! The time is: 2018-01-09 16:31:40.002978\n",
      "BTC_AMP Base Volume: 174.58527937\n",
      "Tick! The time is: 2018-01-09 16:32:00.003588\n",
      "BTC_AMP Base Volume: 174.58527937\n",
      "Tick! The time is: 2018-01-09 16:32:20.003064\n",
      "BTC_AMP Base Volume: 174.58527937\n",
      "Tick! The time is: 2018-01-09 16:32:40.004073\n",
      "BTC_AMP Base Volume: 174.58527937\n",
      "Tick! The time is: 2018-01-09 16:33:00.002431\n",
      "BTC_AMP Base Volume: 174.58527937\n",
      "Tick! The time is: 2018-01-09 16:33:20.002831\n",
      "BTC_AMP Base Volume: 174.58527937\n",
      "Tick! The time is: 2018-01-09 16:33:40.003763\n",
      "BTC_AMP Base Volume: 174.58527937\n",
      "Tick! The time is: 2018-01-09 16:34:00.003141\n",
      "BTC_AMP Base Volume: 174.58527937\n",
      "Tick! The time is: 2018-01-09 16:34:20.002556\n",
      "BTC_AMP Base Volume: 174.58527937\n",
      "Tick! The time is: 2018-01-09 16:34:40.003425\n",
      "BTC_AMP Base Volume: 174.58527937\n",
      "Tick! The time is: 2018-01-09 16:35:00.003255\n",
      "BTC_AMP Base Volume: 174.58527937\n",
      "Tick! The time is: 2018-01-09 16:35:20.002794\n",
      "BTC_AMP Base Volume: 174.58527937\n",
      "Tick! The time is: 2018-01-09 16:35:40.002902\n",
      "BTC_AMP Base Volume: 174.58527937\n",
      "Tick! The time is: 2018-01-09 16:36:00.003613\n",
      "BTC_AMP Base Volume: 174.58527937\n",
      "Tick! The time is: 2018-01-09 16:36:20.003474\n",
      "BTC_AMP Base Volume: 174.58527937\n",
      "Tick! The time is: 2018-01-09 16:36:40.002821\n",
      "BTC_AMP Base Volume: 174.58527937\n",
      "Tick! The time is: 2018-01-09 16:37:00.003689\n",
      "BTC_AMP Base Volume: 174.58527937\n",
      "Tick! The time is: 2018-01-09 16:37:20.003751\n",
      "BTC_AMP Base Volume: 174.58527937\n",
      "Tick! The time is: 2018-01-09 16:37:40.003404\n",
      "BTC_AMP Base Volume: 174.58527937\n",
      "Tick! The time is: 2018-01-09 16:38:00.002849\n",
      "BTC_AMP Base Volume: 174.58527937\n",
      "Tick! The time is: 2018-01-09 16:38:20.003233\n",
      "BTC_AMP Base Volume: 174.58527937\n",
      "Tick! The time is: 2018-01-09 16:38:40.002156\n",
      "BTC_AMP Base Volume: 174.58527937\n",
      "Tick! The time is: 2018-01-09 16:39:00.001609\n",
      "BTC_AMP Base Volume: 174.58527937\n",
      "Tick! The time is: 2018-01-09 16:39:20.002684\n",
      "BTC_AMP Base Volume: 174.58527937\n",
      "Tick! The time is: 2018-01-09 16:39:40.004067\n",
      "BTC_AMP Base Volume: 174.58527937\n",
      "Tick! The time is: 2018-01-09 16:40:00.003113\n",
      "BTC_AMP Base Volume: 174.58527937\n",
      "Tick! The time is: 2018-01-09 16:40:20.003351\n",
      "BTC_AMP Base Volume: 174.58527937\n",
      "Tick! The time is: 2018-01-09 16:40:40.003556\n",
      "BTC_AMP Base Volume: 174.58527937\n",
      "Tick! The time is: 2018-01-09 16:41:00.003403\n",
      "BTC_AMP Base Volume: 174.58527937\n",
      "Tick! The time is: 2018-01-09 16:41:20.002392\n",
      "BTC_AMP Base Volume: 174.58527937\n",
      "Tick! The time is: 2018-01-09 16:41:40.002935\n",
      "BTC_AMP Base Volume: 174.58527937\n",
      "Tick! The time is: 2018-01-09 16:42:00.003633\n",
      "BTC_AMP Base Volume: 174.58527937\n",
      "Tick! The time is: 2018-01-09 16:42:20.003608\n",
      "BTC_AMP Base Volume: 174.58527937\n",
      "Tick! The time is: 2018-01-09 16:42:40.002973\n",
      "BTC_AMP Base Volume: 174.58527937\n",
      "Tick! The time is: 2018-01-09 16:43:00.004036\n",
      "BTC_AMP Base Volume: 174.58527937\n",
      "Tick! The time is: 2018-01-09 16:43:20.003367\n",
      "BTC_AMP Base Volume: 174.58527937\n",
      "Tick! The time is: 2018-01-09 16:43:40.003353\n",
      "BTC_AMP Base Volume: 174.58527937\n",
      "Tick! The time is: 2018-01-09 16:44:00.002785\n",
      "BTC_AMP Base Volume: 174.58527937\n",
      "Tick! The time is: 2018-01-09 16:44:20.003385\n",
      "BTC_AMP Base Volume: 174.58527937\n",
      "Tick! The time is: 2018-01-09 16:44:40.001982\n",
      "BTC_AMP Base Volume: 174.58527937\n",
      "Tick! The time is: 2018-01-09 16:45:00.002679\n",
      "BTC_AMP Base Volume: 174.58527937\n",
      "Tick! The time is: 2018-01-09 16:45:20.002657\n",
      "BTC_AMP Base Volume: 174.58527937\n",
      "Tick! The time is: 2018-01-09 16:45:40.003368\n",
      "BTC_AMP Base Volume: 174.58527937\n",
      "Tick! The time is: 2018-01-09 16:46:00.003138\n",
      "BTC_AMP Base Volume: 174.58527937\n",
      "Tick! The time is: 2018-01-09 16:46:20.002718\n",
      "BTC_AMP Base Volume: 174.58527937\n",
      "Tick! The time is: 2018-01-09 16:46:40.003407\n",
      "BTC_AMP Base Volume: 174.58527937\n",
      "Tick! The time is: 2018-01-09 16:47:00.003413\n",
      "BTC_AMP Base Volume: 174.58527937\n",
      "Tick! The time is: 2018-01-09 16:47:20.003439\n",
      "BTC_AMP Base Volume: 174.58527937\n",
      "Tick! The time is: 2018-01-09 16:47:40.002437\n",
      "BTC_AMP Base Volume: 174.58527937\n",
      "Tick! The time is: 2018-01-09 16:48:00.003238\n",
      "BTC_AMP Base Volume: 174.58527937\n",
      "Tick! The time is: 2018-01-09 16:48:20.002567\n",
      "BTC_AMP Base Volume: 174.58527937\n",
      "Tick! The time is: 2018-01-09 16:48:40.002952\n",
      "BTC_AMP Base Volume: 174.58527937\n",
      "Tick! The time is: 2018-01-09 16:49:00.002562\n",
      "BTC_AMP Base Volume: 174.58527937\n",
      "Tick! The time is: 2018-01-09 16:49:20.002577\n",
      "BTC_AMP Base Volume: 174.58527937\n",
      "Tick! The time is: 2018-01-09 16:49:40.003308\n",
      "BTC_AMP Base Volume: 174.58527937\n",
      "Tick! The time is: 2018-01-09 16:50:00.002638\n",
      "BTC_AMP Base Volume: 174.58527937\n",
      "Tick! The time is: 2018-01-09 16:50:20.002817\n",
      "BTC_AMP Base Volume: 174.58527937\n",
      "Tick! The time is: 2018-01-09 16:50:40.003532\n",
      "BTC_AMP Base Volume: 174.58527937\n",
      "Tick! The time is: 2018-01-09 16:51:00.003166\n",
      "BTC_AMP Base Volume: 174.58527937\n",
      "Tick! The time is: 2018-01-09 16:51:20.002191\n",
      "BTC_AMP Base Volume: 174.58527937\n",
      "Tick! The time is: 2018-01-09 16:51:40.002923\n",
      "BTC_AMP Base Volume: 174.58527937\n",
      "Tick! The time is: 2018-01-09 16:52:00.003780\n",
      "BTC_AMP Base Volume: 174.58527937\n",
      "Tick! The time is: 2018-01-09 16:52:20.003219\n",
      "BTC_AMP Base Volume: 174.58527937\n",
      "Tick! The time is: 2018-01-09 16:52:40.001441\n",
      "BTC_AMP Base Volume: 174.58527937\n",
      "Tick! The time is: 2018-01-09 16:53:00.002287\n",
      "BTC_AMP Base Volume: 174.58527937\n",
      "Tick! The time is: 2018-01-09 16:53:20.002872\n",
      "BTC_AMP Base Volume: 174.58527937\n",
      "Tick! The time is: 2018-01-09 16:53:40.002602\n",
      "BTC_AMP Base Volume: 174.58527937\n",
      "Tick! The time is: 2018-01-09 16:54:00.001836\n",
      "BTC_AMP Base Volume: 174.58527937\n",
      "Tick! The time is: 2018-01-09 16:54:20.003733\n",
      "BTC_AMP Base Volume: 174.58527937\n",
      "Tick! The time is: 2018-01-09 16:54:40.002860\n",
      "BTC_AMP Base Volume: 174.58527937\n",
      "Tick! The time is: 2018-01-09 16:55:00.003724\n",
      "BTC_AMP Base Volume: 174.58527937\n",
      "Tick! The time is: 2018-01-09 16:55:20.003668\n",
      "BTC_AMP Base Volume: 174.58527937\n",
      "Tick! The time is: 2018-01-09 16:55:40.002990\n",
      "BTC_AMP Base Volume: 174.58527937\n",
      "Tick! The time is: 2018-01-09 16:56:00.003248\n",
      "BTC_AMP Base Volume: 174.58527937\n",
      "Tick! The time is: 2018-01-09 16:56:20.002845\n",
      "BTC_AMP Base Volume: 174.58527937\n",
      "Tick! The time is: 2018-01-09 16:56:40.003286\n",
      "BTC_AMP Base Volume: 174.58527937\n",
      "Tick! The time is: 2018-01-09 16:57:00.002600\n",
      "BTC_AMP Base Volume: 174.58527937\n"
     ]
    },
    {
     "name": "stderr",
     "output_type": "stream",
     "text": [
      "Job \"get_data (trigger: cron[hour='*', minute='*', second='*/20'], next run at: 2018-01-09 16:57:40 CST)\" raised an exception\n",
      "Traceback (most recent call last):\n",
      "  File \"C:\\Users\\richi\\Anaconda3\\lib\\site-packages\\apscheduler\\executors\\base.py\", line 125, in run_job\n",
      "    retval = job.func(*job.args, **job.kwargs)\n",
      "  File \"<ipython-input-7-09b1b3c46fd3>\", line 13, in get_data\n",
      "    scheduler.shutdown()\n",
      "  File \"C:\\Users\\richi\\Anaconda3\\lib\\site-packages\\apscheduler\\schedulers\\blocking.py\", line 22, in shutdown\n",
      "    super(BlockingScheduler, self).shutdown(wait)\n",
      "  File \"C:\\Users\\richi\\Anaconda3\\lib\\site-packages\\apscheduler\\schedulers\\base.py\", line 183, in shutdown\n",
      "    executor.shutdown(wait)\n",
      "  File \"C:\\Users\\richi\\Anaconda3\\lib\\site-packages\\apscheduler\\executors\\pool.py\", line 26, in shutdown\n",
      "    self._pool.shutdown(wait)\n",
      "  File \"C:\\Users\\richi\\Anaconda3\\lib\\concurrent\\futures\\thread.py\", line 152, in shutdown\n",
      "    t.join()\n",
      "  File \"C:\\Users\\richi\\Anaconda3\\lib\\threading.py\", line 1053, in join\n",
      "    raise RuntimeError(\"cannot join current thread\")\n",
      "RuntimeError: cannot join current thread\n"
     ]
    },
    {
     "name": "stdout",
     "output_type": "stream",
     "text": [
      "Tick! The time is: 2018-01-09 16:57:20.002580\n"
     ]
    },
    {
     "name": "stderr",
     "output_type": "stream",
     "text": [
      "Error submitting job \"get_data (trigger: cron[hour='*', minute='*', second='*/20'], next run at: 2018-01-09 16:57:40 CST)\" to executor \"default\"\n",
      "Traceback (most recent call last):\n",
      "  File \"C:\\Users\\richi\\Anaconda3\\lib\\site-packages\\apscheduler\\schedulers\\base.py\", line 958, in _process_jobs\n",
      "    executor.submit_job(job, run_times)\n",
      "  File \"C:\\Users\\richi\\Anaconda3\\lib\\site-packages\\apscheduler\\executors\\base.py\", line 71, in submit_job\n",
      "    self._do_submit_job(job, run_times)\n",
      "  File \"C:\\Users\\richi\\Anaconda3\\lib\\site-packages\\apscheduler\\executors\\pool.py\", line 22, in _do_submit_job\n",
      "    f = self._pool.submit(run_job, job, job._jobstore_alias, run_times, self._logger.name)\n",
      "  File \"C:\\Users\\richi\\Anaconda3\\lib\\concurrent\\futures\\thread.py\", line 117, in submit\n",
      "    raise RuntimeError('cannot schedule new futures after shutdown')\n",
      "RuntimeError: cannot schedule new futures after shutdown\n"
     ]
    }
   ],
   "source": [
    "\n",
    "scheduler = BlockingScheduler()\n",
    "scheduler.add_job(get_data, 'cron', hour='*', minute='*', second='*/20')\n",
    "        \n",
    "try:\n",
    "    scheduler.start()\n",
    "except (KeyboardInterrupt, SystemExit):\n",
    "    pass\n",
    "\n"
   ]
  },
  {
   "cell_type": "code",
   "execution_count": 21,
   "metadata": {},
   "outputs": [
    {
     "ename": "ValueError",
     "evalue": "not enough values to unpack (expected 7, got 0)",
     "output_type": "error",
     "traceback": [
      "\u001b[1;31m---------------------------------------------------------------------------\u001b[0m",
      "\u001b[1;31mValueError\u001b[0m                                Traceback (most recent call last)",
      "\u001b[1;32m<ipython-input-21-08aefc20127c>\u001b[0m in \u001b[0;36m<module>\u001b[1;34m()\u001b[0m\n\u001b[1;32m----> 1\u001b[1;33m \u001b[0mbaseVal\u001b[0m\u001b[1;33m,\u001b[0m \u001b[0mhigh24hr\u001b[0m\u001b[1;33m,\u001b[0m \u001b[0mhighestBid\u001b[0m\u001b[1;33m,\u001b[0m \u001b[0mlast\u001b[0m\u001b[1;33m,\u001b[0m \u001b[0mlow24hr\u001b[0m\u001b[1;33m,\u001b[0m \u001b[0mlowestAsk\u001b[0m\u001b[1;33m,\u001b[0m \u001b[0mquoteVolume\u001b[0m \u001b[1;33m=\u001b[0m \u001b[1;33m{\u001b[0m\u001b[1;33m}\u001b[0m\u001b[1;33m\u001b[0m\u001b[0m\n\u001b[0m\u001b[0;32m      2\u001b[0m \u001b[0mhigh24hr\u001b[0m \u001b[1;33m=\u001b[0m \u001b[1;33m{\u001b[0m\u001b[1;33m}\u001b[0m\u001b[1;33m\u001b[0m\u001b[0m\n\u001b[0;32m      3\u001b[0m \u001b[0mhighestBid\u001b[0m \u001b[1;33m=\u001b[0m \u001b[1;33m{\u001b[0m\u001b[1;33m}\u001b[0m\u001b[1;33m\u001b[0m\u001b[0m\n\u001b[0;32m      4\u001b[0m \u001b[0mlast\u001b[0m \u001b[1;33m=\u001b[0m \u001b[1;33m{\u001b[0m\u001b[1;33m}\u001b[0m\u001b[1;33m\u001b[0m\u001b[0m\n\u001b[0;32m      5\u001b[0m \u001b[0mlow24hr\u001b[0m \u001b[1;33m=\u001b[0m \u001b[1;33m{\u001b[0m\u001b[1;33m}\u001b[0m\u001b[1;33m\u001b[0m\u001b[0m\n",
      "\u001b[1;31mValueError\u001b[0m: not enough values to unpack (expected 7, got 0)"
     ]
    }
   ],
   "source": [
    "\n",
    "baseVal = {}\n",
    "high24hr = {}\n",
    "highestBid = {}\n",
    "last = {}\n",
    "low24hr = {}\n",
    "lowestAsk = {}\n",
    "quoteVolume = {}\n",
    "\n",
    "for key in loggedValues.keys():    \n",
    "    for i in range(len(loggedValues[\"BTC_AMP\"])):\n",
    "        baseVal = loggedValues[key][i][\"baseVolume\"]\n",
    "        high24hr = loggedValues[key][i][\"high24hr\"]\n",
    "        highestBid = loggedValues[key][i][\"highestBid\"]\n",
    "        last = loggedValues[key][i][\"last\"]\n",
    "        low24hr = loggedValues[key][i][\"low24hr\"]\n",
    "        lowestAsk = loggedValues[key][i][\"lowestAsk\"]\n",
    "        quoteVolume = loggedValues[key][i][\"quoteVolume\"]\n",
    "        "
   ]
  },
  {
   "cell_type": "code",
   "execution_count": 34,
   "metadata": {},
   "outputs": [
    {
     "name": "stdout",
     "output_type": "stream",
     "text": [
      "174.58527937\n",
      "174.58180323\n",
      "174.52239748\n",
      "173.39405639\n",
      "176.66900150\n",
      "176.96649382\n",
      "177.01533849\n",
      "177.09632101\n",
      "182.66122885\n",
      "186.01367381\n"
     ]
    }
   ],
   "source": [
    "for i in range(10):\n",
    "    print(loggedValues[\"BTC_AMP\"][10*i][\"baseVolume\"])"
   ]
  },
  {
   "cell_type": "code",
   "execution_count": 32,
   "metadata": {},
   "outputs": [],
   "source": [
    "duration = 60; #in seconds\n",
    "\n",
    "start_time = datetime.now()\n",
    "end_time = start_time\n",
    "\n",
    "start_hour = str(start_time.hour)\n",
    "start_minute = str(start_time.minute)\n",
    "start_second = str(start_time.second)"
   ]
  },
  {
   "cell_type": "code",
   "execution_count": 19,
   "metadata": {},
   "outputs": [
    {
     "data": {
      "text/plain": [
       "datetime.datetime(2018, 1, 9, 15, 4, 58, 509316)"
      ]
     },
     "execution_count": 19,
     "metadata": {},
     "output_type": "execute_result"
    }
   ],
   "source": [
    "start_time"
   ]
  },
  {
   "cell_type": "code",
   "execution_count": null,
   "metadata": {
    "collapsed": true
   },
   "outputs": [],
   "source": [
    "if (datetime.now().timestamp > end_time):\n",
    "    scheduler.shutdown()"
   ]
  }
 ],
 "metadata": {
  "kernelspec": {
   "display_name": "Python 3",
   "language": "python",
   "name": "python3"
  },
  "language_info": {
   "codemirror_mode": {
    "name": "ipython",
    "version": 3
   },
   "file_extension": ".py",
   "mimetype": "text/x-python",
   "name": "python",
   "nbconvert_exporter": "python",
   "pygments_lexer": "ipython3",
   "version": "3.6.3"
  }
 },
 "nbformat": 4,
 "nbformat_minor": 2
}
