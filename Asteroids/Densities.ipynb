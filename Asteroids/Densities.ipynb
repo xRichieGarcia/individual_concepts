{
 "cells": [
  {
   "cell_type": "code",
   "execution_count": 1,
   "metadata": {
    "collapsed": true
   },
   "outputs": [],
   "source": [
    "# Data source: https://sbn.psi.edu/pds/archive/physical.html\n",
    "import numpy as np\n",
    "import matplotlib.pyplot as plt\n",
    "import pandas as pd"
   ]
  },
  {
   "cell_type": "code",
   "execution_count": 2,
   "metadata": {
    "collapsed": true
   },
   "outputs": [],
   "source": [
    "# loading filepath\n",
    "folder_path = \"EAR_A_5_DDR_ASTEROID_DENSITIES_V1_1\\EAR_A_5_DDR_ASTEROID_DENSITIES_V1_1\\data\"\n",
    "\n",
    "filepath = folder_path + \"\\density.tab\""
   ]
  },
  {
   "cell_type": "code",
   "execution_count": 3,
   "metadata": {
    "collapsed": true
   },
   "outputs": [],
   "source": [
    "# reading file into pandas DataFrame\n",
    "df = pd.read_table(filepath, delimiter=\" \", header=None, \n",
    "                   engine='python')"
   ]
  },
  {
   "cell_type": "code",
   "execution_count": 4,
   "metadata": {
    "collapsed": true
   },
   "outputs": [],
   "source": [
    "# Parsing dataframe\n",
    "ceres = df.drop(range(14, 67));\n",
    "ceres = ceres.drop(range(0, 5), axis=1)\n",
    "ceres = ceres.drop(range(7, 27), axis=1)\n",
    "ceres = ceres.drop(28, axis=1)\n",
    "ceres = ceres.drop(range(43,46), axis=1)"
   ]
  },
  {
   "cell_type": "code",
   "execution_count": 5,
   "metadata": {
    "collapsed": true,
    "scrolled": true
   },
   "outputs": [],
   "source": [
    "# Adding labels from density.lbl\n",
    "ceres_columns = {5: 'AST_NUM', 6: 'AST_NAME', 27: 'TAX_TYPE', \n",
    "                 29: 'M_SOL_SOURCE', 30: 'M_SOL', 31: 'M_SOL_UNC_SOURCE', \n",
    "                32: 'M_SOL_UNCERTAINTY', 33: 'M_KG_SOURCE', 34: 'M_KG', \n",
    "                35: 'M_KG_UNC_SOURCE', 36: 'M_KG_UPPER_UNC', \n",
    "                 37: 'M_KG_LOWER_UNC', 38: 'DIAMETER', 39: 'DIAMETER_UNC', \n",
    "                40: 'BULK_DENSITY', 41: 'BD_UPPER_UNC', 42: 'BD_LOWER_UNC', \n",
    "                }\n",
    "ceres = ceres.rename(columns=ceres_columns)\n",
    "\n",
    "# creating new field to map indivdual numbers against\n",
    "ceres['OBV_NUM'] = pd.Series(np.arange(len(ceres['AST_NUM'])))"
   ]
  },
  {
   "cell_type": "code",
   "execution_count": 6,
   "metadata": {},
   "outputs": [
    {
     "data": {
      "text/html": [
       "<div>\n",
       "<style>\n",
       "    .dataframe thead tr:only-child th {\n",
       "        text-align: right;\n",
       "    }\n",
       "\n",
       "    .dataframe thead th {\n",
       "        text-align: left;\n",
       "    }\n",
       "\n",
       "    .dataframe tbody tr th {\n",
       "        vertical-align: top;\n",
       "    }\n",
       "</style>\n",
       "<table border=\"1\" class=\"dataframe\">\n",
       "  <thead>\n",
       "    <tr style=\"text-align: right;\">\n",
       "      <th></th>\n",
       "      <th>AST_NUM</th>\n",
       "      <th>AST_NAME</th>\n",
       "      <th>TAX_TYPE</th>\n",
       "      <th>M_SOL_SOURCE</th>\n",
       "      <th>M_SOL</th>\n",
       "      <th>M_SOL_UNC_SOURCE</th>\n",
       "      <th>M_SOL_UNCERTAINTY</th>\n",
       "      <th>M_KG_SOURCE</th>\n",
       "      <th>M_KG</th>\n",
       "      <th>M_KG_UNC_SOURCE</th>\n",
       "      <th>M_KG_UPPER_UNC</th>\n",
       "      <th>M_KG_LOWER_UNC</th>\n",
       "      <th>DIAMETER</th>\n",
       "      <th>DIAMETER_UNC</th>\n",
       "      <th>BULK_DENSITY</th>\n",
       "      <th>BD_UPPER_UNC</th>\n",
       "      <th>BD_LOWER_UNC</th>\n",
       "      <th>OBV_NUM</th>\n",
       "    </tr>\n",
       "  </thead>\n",
       "  <tbody>\n",
       "    <tr>\n",
       "      <th>0</th>\n",
       "      <td>1</td>\n",
       "      <td>Ceres</td>\n",
       "      <td>G</td>\n",
       "      <td>0.0</td>\n",
       "      <td>4.762000e-10</td>\n",
       "      <td>0.0</td>\n",
       "      <td>1.500000e-12</td>\n",
       "      <td>0.0</td>\n",
       "      <td>9.470000e+20</td>\n",
       "      <td>1.0</td>\n",
       "      <td>2.980000e+18</td>\n",
       "      <td>2.980000e+18</td>\n",
       "      <td>-99.99</td>\n",
       "      <td>-9.99</td>\n",
       "      <td>2.12</td>\n",
       "      <td>0.04</td>\n",
       "      <td>0.04</td>\n",
       "      <td>0</td>\n",
       "    </tr>\n",
       "    <tr>\n",
       "      <th>2</th>\n",
       "      <td>1</td>\n",
       "      <td>Ceres</td>\n",
       "      <td>G</td>\n",
       "      <td>0.0</td>\n",
       "      <td>4.700000e-10</td>\n",
       "      <td>0.0</td>\n",
       "      <td>4.000000e-12</td>\n",
       "      <td>0.0</td>\n",
       "      <td>9.350000e+20</td>\n",
       "      <td>1.0</td>\n",
       "      <td>7.960000e+18</td>\n",
       "      <td>7.960000e+18</td>\n",
       "      <td>-99.99</td>\n",
       "      <td>-9.99</td>\n",
       "      <td>-0.99</td>\n",
       "      <td>-0.99</td>\n",
       "      <td>-0.99</td>\n",
       "      <td>2</td>\n",
       "    </tr>\n",
       "    <tr>\n",
       "      <th>3</th>\n",
       "      <td>1</td>\n",
       "      <td>Ceres</td>\n",
       "      <td>G</td>\n",
       "      <td>0.0</td>\n",
       "      <td>4.390000e-10</td>\n",
       "      <td>0.0</td>\n",
       "      <td>4.000000e-12</td>\n",
       "      <td>0.0</td>\n",
       "      <td>8.730000e+20</td>\n",
       "      <td>1.0</td>\n",
       "      <td>7.960000e+18</td>\n",
       "      <td>7.960000e+18</td>\n",
       "      <td>-99.99</td>\n",
       "      <td>-9.99</td>\n",
       "      <td>-0.99</td>\n",
       "      <td>-0.99</td>\n",
       "      <td>-0.99</td>\n",
       "      <td>3</td>\n",
       "    </tr>\n",
       "    <tr>\n",
       "      <th>4</th>\n",
       "      <td>1</td>\n",
       "      <td>Ceres</td>\n",
       "      <td>G</td>\n",
       "      <td>0.0</td>\n",
       "      <td>4.700000e-10</td>\n",
       "      <td>2.0</td>\n",
       "      <td>-9.900000e+98</td>\n",
       "      <td>0.0</td>\n",
       "      <td>9.350000e+20</td>\n",
       "      <td>2.0</td>\n",
       "      <td>-9.900000e+98</td>\n",
       "      <td>-9.900000e+98</td>\n",
       "      <td>-99.99</td>\n",
       "      <td>-9.99</td>\n",
       "      <td>-0.99</td>\n",
       "      <td>-0.99</td>\n",
       "      <td>-0.99</td>\n",
       "      <td>4</td>\n",
       "    </tr>\n",
       "    <tr>\n",
       "      <th>5</th>\n",
       "      <td>1</td>\n",
       "      <td>Ceres</td>\n",
       "      <td>G</td>\n",
       "      <td>0.0</td>\n",
       "      <td>4.759000e-10</td>\n",
       "      <td>0.0</td>\n",
       "      <td>2.300000e-12</td>\n",
       "      <td>0.0</td>\n",
       "      <td>9.470000e+20</td>\n",
       "      <td>1.0</td>\n",
       "      <td>4.570000e+18</td>\n",
       "      <td>4.570000e+18</td>\n",
       "      <td>-99.99</td>\n",
       "      <td>-9.99</td>\n",
       "      <td>-0.99</td>\n",
       "      <td>-0.99</td>\n",
       "      <td>-0.99</td>\n",
       "      <td>5</td>\n",
       "    </tr>\n",
       "    <tr>\n",
       "      <th>6</th>\n",
       "      <td>1</td>\n",
       "      <td>Ceres</td>\n",
       "      <td>G</td>\n",
       "      <td>0.0</td>\n",
       "      <td>5.000000e-10</td>\n",
       "      <td>0.0</td>\n",
       "      <td>2.000000e-11</td>\n",
       "      <td>0.0</td>\n",
       "      <td>9.900000e+20</td>\n",
       "      <td>1.0</td>\n",
       "      <td>3.980000e+19</td>\n",
       "      <td>3.980000e+19</td>\n",
       "      <td>-99.99</td>\n",
       "      <td>-9.99</td>\n",
       "      <td>-0.99</td>\n",
       "      <td>-0.99</td>\n",
       "      <td>-0.99</td>\n",
       "      <td>6</td>\n",
       "    </tr>\n",
       "    <tr>\n",
       "      <th>7</th>\n",
       "      <td>1</td>\n",
       "      <td>Ceres</td>\n",
       "      <td>G</td>\n",
       "      <td>1.0</td>\n",
       "      <td>5.178000e-10</td>\n",
       "      <td>2.0</td>\n",
       "      <td>-9.900000e+98</td>\n",
       "      <td>0.0</td>\n",
       "      <td>1.030000e+21</td>\n",
       "      <td>2.0</td>\n",
       "      <td>-9.900000e+98</td>\n",
       "      <td>-9.900000e+98</td>\n",
       "      <td>-99.99</td>\n",
       "      <td>-9.99</td>\n",
       "      <td>-0.99</td>\n",
       "      <td>-0.99</td>\n",
       "      <td>-0.99</td>\n",
       "      <td>7</td>\n",
       "    </tr>\n",
       "    <tr>\n",
       "      <th>8</th>\n",
       "      <td>1</td>\n",
       "      <td>Ceres</td>\n",
       "      <td>G</td>\n",
       "      <td>0.0</td>\n",
       "      <td>4.740000e-10</td>\n",
       "      <td>0.0</td>\n",
       "      <td>3.000000e-11</td>\n",
       "      <td>0.0</td>\n",
       "      <td>9.400000e+20</td>\n",
       "      <td>1.0</td>\n",
       "      <td>5.970000e+19</td>\n",
       "      <td>5.970000e+19</td>\n",
       "      <td>-99.99</td>\n",
       "      <td>-9.99</td>\n",
       "      <td>-0.99</td>\n",
       "      <td>-0.99</td>\n",
       "      <td>-0.99</td>\n",
       "      <td>8</td>\n",
       "    </tr>\n",
       "    <tr>\n",
       "      <th>9</th>\n",
       "      <td>1</td>\n",
       "      <td>Ceres</td>\n",
       "      <td>G</td>\n",
       "      <td>0.0</td>\n",
       "      <td>5.000000e-10</td>\n",
       "      <td>0.0</td>\n",
       "      <td>2.000000e-11</td>\n",
       "      <td>0.0</td>\n",
       "      <td>9.900000e+20</td>\n",
       "      <td>1.0</td>\n",
       "      <td>3.980000e+19</td>\n",
       "      <td>3.980000e+19</td>\n",
       "      <td>-99.99</td>\n",
       "      <td>-9.99</td>\n",
       "      <td>-0.99</td>\n",
       "      <td>-0.99</td>\n",
       "      <td>-0.99</td>\n",
       "      <td>9</td>\n",
       "    </tr>\n",
       "    <tr>\n",
       "      <th>10</th>\n",
       "      <td>1</td>\n",
       "      <td>Ceres</td>\n",
       "      <td>G</td>\n",
       "      <td>0.0</td>\n",
       "      <td>5.210000e-10</td>\n",
       "      <td>0.0</td>\n",
       "      <td>3.000000e-11</td>\n",
       "      <td>0.0</td>\n",
       "      <td>1.030000e+21</td>\n",
       "      <td>1.0</td>\n",
       "      <td>5.970000e+19</td>\n",
       "      <td>5.970000e+19</td>\n",
       "      <td>-99.99</td>\n",
       "      <td>-9.99</td>\n",
       "      <td>-0.99</td>\n",
       "      <td>-0.99</td>\n",
       "      <td>-0.99</td>\n",
       "      <td>10</td>\n",
       "    </tr>\n",
       "    <tr>\n",
       "      <th>11</th>\n",
       "      <td>1</td>\n",
       "      <td>Ceres</td>\n",
       "      <td>G</td>\n",
       "      <td>0.0</td>\n",
       "      <td>5.900000e-10</td>\n",
       "      <td>0.0</td>\n",
       "      <td>3.000000e-11</td>\n",
       "      <td>0.0</td>\n",
       "      <td>1.170000e+21</td>\n",
       "      <td>1.0</td>\n",
       "      <td>5.970000e+19</td>\n",
       "      <td>5.970000e+19</td>\n",
       "      <td>-99.99</td>\n",
       "      <td>-9.99</td>\n",
       "      <td>-0.99</td>\n",
       "      <td>-0.99</td>\n",
       "      <td>-0.99</td>\n",
       "      <td>11</td>\n",
       "    </tr>\n",
       "  </tbody>\n",
       "</table>\n",
       "</div>"
      ],
      "text/plain": [
       "   AST_NUM AST_NAME TAX_TYPE  M_SOL_SOURCE         M_SOL  M_SOL_UNC_SOURCE  \\\n",
       "0        1    Ceres        G           0.0  4.762000e-10               0.0   \n",
       "2        1    Ceres        G           0.0  4.700000e-10               0.0   \n",
       "3        1    Ceres        G           0.0  4.390000e-10               0.0   \n",
       "4        1    Ceres        G           0.0  4.700000e-10               2.0   \n",
       "5        1    Ceres        G           0.0  4.759000e-10               0.0   \n",
       "6        1    Ceres        G           0.0  5.000000e-10               0.0   \n",
       "7        1    Ceres        G           1.0  5.178000e-10               2.0   \n",
       "8        1    Ceres        G           0.0  4.740000e-10               0.0   \n",
       "9        1    Ceres        G           0.0  5.000000e-10               0.0   \n",
       "10       1    Ceres        G           0.0  5.210000e-10               0.0   \n",
       "11       1    Ceres        G           0.0  5.900000e-10               0.0   \n",
       "\n",
       "    M_SOL_UNCERTAINTY  M_KG_SOURCE          M_KG  M_KG_UNC_SOURCE  \\\n",
       "0        1.500000e-12          0.0  9.470000e+20              1.0   \n",
       "2        4.000000e-12          0.0  9.350000e+20              1.0   \n",
       "3        4.000000e-12          0.0  8.730000e+20              1.0   \n",
       "4       -9.900000e+98          0.0  9.350000e+20              2.0   \n",
       "5        2.300000e-12          0.0  9.470000e+20              1.0   \n",
       "6        2.000000e-11          0.0  9.900000e+20              1.0   \n",
       "7       -9.900000e+98          0.0  1.030000e+21              2.0   \n",
       "8        3.000000e-11          0.0  9.400000e+20              1.0   \n",
       "9        2.000000e-11          0.0  9.900000e+20              1.0   \n",
       "10       3.000000e-11          0.0  1.030000e+21              1.0   \n",
       "11       3.000000e-11          0.0  1.170000e+21              1.0   \n",
       "\n",
       "    M_KG_UPPER_UNC  M_KG_LOWER_UNC  DIAMETER  DIAMETER_UNC  BULK_DENSITY  \\\n",
       "0     2.980000e+18    2.980000e+18    -99.99         -9.99          2.12   \n",
       "2     7.960000e+18    7.960000e+18    -99.99         -9.99         -0.99   \n",
       "3     7.960000e+18    7.960000e+18    -99.99         -9.99         -0.99   \n",
       "4    -9.900000e+98   -9.900000e+98    -99.99         -9.99         -0.99   \n",
       "5     4.570000e+18    4.570000e+18    -99.99         -9.99         -0.99   \n",
       "6     3.980000e+19    3.980000e+19    -99.99         -9.99         -0.99   \n",
       "7    -9.900000e+98   -9.900000e+98    -99.99         -9.99         -0.99   \n",
       "8     5.970000e+19    5.970000e+19    -99.99         -9.99         -0.99   \n",
       "9     3.980000e+19    3.980000e+19    -99.99         -9.99         -0.99   \n",
       "10    5.970000e+19    5.970000e+19    -99.99         -9.99         -0.99   \n",
       "11    5.970000e+19    5.970000e+19    -99.99         -9.99         -0.99   \n",
       "\n",
       "    BD_UPPER_UNC  BD_LOWER_UNC  OBV_NUM  \n",
       "0           0.04          0.04        0  \n",
       "2          -0.99         -0.99        2  \n",
       "3          -0.99         -0.99        3  \n",
       "4          -0.99         -0.99        4  \n",
       "5          -0.99         -0.99        5  \n",
       "6          -0.99         -0.99        6  \n",
       "7          -0.99         -0.99        7  \n",
       "8          -0.99         -0.99        8  \n",
       "9          -0.99         -0.99        9  \n",
       "10         -0.99         -0.99       10  \n",
       "11         -0.99         -0.99       11  "
      ]
     },
     "execution_count": 6,
     "metadata": {},
     "output_type": "execute_result"
    }
   ],
   "source": [
    "ceres_mass = ceres.drop(1)\n",
    "ceres_mass = ceres_mass.drop(range(12,14))\n",
    "ceres_mass"
   ]
  },
  {
   "cell_type": "code",
   "execution_count": 7,
   "metadata": {
    "scrolled": true
   },
   "outputs": [
    {
     "data": {
      "image/png": "[encoded data removed]",
      "text/plain": [
       "<matplotlib.figure.Figure at 0x241e4a9d198>"
      ]
     },
     "metadata": {},
     "output_type": "display_data"
    }
   ],
   "source": [
    "ceres.plot(kind='scatter', x='OBV_NUM', y='M_KG')\n",
    "plt.show()"
   ]
  },
  {
   "cell_type": "code",
   "execution_count": 10,
   "metadata": {
    "scrolled": true
   },
   "outputs": [
    {
     "data": {
      "image/png": "[encoded data removed]",
      "text/plain": [
       "<matplotlib.figure.Figure at 0x241e50d9630>"
      ]
     },
     "metadata": {},
     "output_type": "display_data"
    }
   ],
   "source": [
    "ceres_mass.plot(kind='scatter', label='Ceres', color='DarkGreen',\n",
    "                x='OBV_NUM', y='M_KG', s=100)\n",
    "plt.show()"
   ]
  },
  {
   "cell_type": "markdown",
   "metadata": {},
   "source": [
    "ceres_mass_avg = ceres_mass['M_KG'].mean()\n",
    "ceres_mass_avg"
   ]
  },
  {
   "cell_type": "code",
   "execution_count": 34,
   "metadata": {},
   "outputs": [],
   "source": [
    "pallas = df.drop(range(0, 14))\n",
    "pallas = pallas.drop(range(25, 67))\n",
    "pallas = pallas.drop(range(0, 5), axis=1)\n",
    "pallas = pallas.drop(range(7, 26), axis=1)\n",
    "pallas = pallas.drop(27, axis=1)\n",
    "pallas = pallas.drop(35, axis=1)\n",
    "pallas = pallas.drop(range(42, 46), axis=1)"
   ]
  },
  {
   "cell_type": "code",
   "execution_count": 44,
   "metadata": {},
   "outputs": [],
   "source": [
    "pallas_columns = {5: 'AST_NUM', 6: 'AST_NAME', 26: 'TAX_TYPE', \n",
    "                 28: 'M_SOL_SOURCE', 29: 'M_SOL', 30: 'M_SOL_UNC_SOURCE', \n",
    "                31: 'M_SOL_UNCERTAINTY', 32: 'M_KG_SOURCE', 33: 'M_KG', \n",
    "                34: 'M_KG_UNC_SOURCE', 36: 'M_KG_UPPER_UNC', \n",
    "                37: 'DIAMETER', 38: 'DIAMETER_UNC', \n",
    "                39: 'BULK_DENSITY', 40: 'BD_UPPER_UNC', 41: 'BD_LOWER_UNC'}\n",
    "pallas = pallas.rename(columns=pallas_columns)"
   ]
  },
  {
   "cell_type": "code",
   "execution_count": 47,
   "metadata": {
    "collapsed": true
   },
   "outputs": [],
   "source": [
    "pallas['OBV_NUM'] = np.arange(len(pallas['AST_NUM']))"
   ]
  },
  {
   "cell_type": "code",
   "execution_count": 52,
   "metadata": {},
   "outputs": [
    {
     "data": {
      "text/plain": [
       "14    2.140000e+20\n",
       "15   -9.900000e+98\n",
       "16    2.330000e+20\n",
       "17    2.410000e+20\n",
       "18    3.160000e+20\n",
       "19    2.140000e+20\n",
       "20    2.800000e+20\n",
       "21    2.100000e+20\n",
       "22   -9.900000e+98\n",
       "23   -9.900000e+98\n",
       "24   -9.900000e+98\n",
       "Name: M_KG, dtype: float64"
      ]
     },
     "execution_count": 52,
     "metadata": {},
     "output_type": "execute_result"
    }
   ],
   "source": [
    "pallas['M_KG']"
   ]
  },
  {
   "cell_type": "code",
   "execution_count": 62,
   "metadata": {},
   "outputs": [],
   "source": [
    "pallas_mass = pallas.drop(15)\n",
    "pallas_mass = pallas_mass.drop(range(22, 25))"
   ]
  },
  {
   "cell_type": "code",
   "execution_count": 64,
   "metadata": {},
   "outputs": [
    {
     "data": {
      "text/plain": [
       "2.44e+20"
      ]
     },
     "execution_count": 64,
     "metadata": {},
     "output_type": "execute_result"
    }
   ],
   "source": [
    "pallas_mass_avg = pallas_mass['M_KG'].mean()\n",
    "pallas_mass_avg"
   ]
  },
  {
   "cell_type": "code",
   "execution_count": null,
   "metadata": {
    "collapsed": true
   },
   "outputs": [],
   "source": []
  }
 ],
 "metadata": {
  "kernelspec": {
   "display_name": "Python 3",
   "language": "python",
   "name": "python3"
  },
  "language_info": {
   "codemirror_mode": {
    "name": "ipython",
    "version": 3
   },
   "file_extension": ".py",
   "mimetype": "text/x-python",
   "name": "python",
   "nbconvert_exporter": "python",
   "pygments_lexer": "ipython3",
   "version": "3.6.3"
  }
 },
 "nbformat": 4,
 "nbformat_minor": 2
}
